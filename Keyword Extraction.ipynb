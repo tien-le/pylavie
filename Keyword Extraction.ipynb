{
 "cells": [
  {
   "cell_type": "markdown",
   "id": "7c22c201",
   "metadata": {},
   "source": [
    "# What is Keyword Extraction?\n",
    "\n",
    "Keyword Extraction is defined as a set of terms to describe the subject of given document.\n",
    "\n",
    "This is an important technique in information retrieval system (IR), such as: keywords simplify and speed up research.\n",
    "\n",
    "Its applications is that to reduce text dimensionality for further text analysis (subject modeling text classification), for instance:\n",
    "+ indexing data\n",
    "+ summarizing text\n",
    "+ generating tag clouds with the most representative keywords\n",
    "\n",
    "# Data settings\n",
    "\n",
    "Neural Information Processing Systems (NIPS) is one of the top machine learning conferences in the world. It covers topics ranging from deep learning and computer vision to cognitive science and reinforcement learning.\n",
    "\n",
    "This dataset includes the title, authors, abstracts, and extracted text for all NIPS papers to date (ranging from the first 1987 conference to the current 2016 conference). I've extracted the paper text from the raw PDF files and are releasing that both in CSV files and as a SQLite database. The code to scrape and create this dataset is on GitHub. Here's a quick RMarkdown exploratory overview of what's in the data.\n",
    "\n",
    "# Links & References\n",
    "\n",
    "+ https://thecleverprogrammer.com/2020/12/01/keyword-extraction-with-python/\n",
    "+ corpus: https://www.kaggle.com/benhamner/nips-papers/download (about 428 MB)\n"
   ]
  },
  {
   "cell_type": "markdown",
   "id": "3d8e5f53",
   "metadata": {},
   "source": [
    "# Overview corpus"
   ]
  },
  {
   "cell_type": "code",
   "execution_count": 1,
   "id": "06a68268",
   "metadata": {
    "ExecuteTime": {
     "end_time": "2021-11-04T09:59:40.945926Z",
     "start_time": "2021-11-04T09:59:40.642756Z"
    }
   },
   "outputs": [],
   "source": [
    "import os\n",
    "import sys\n",
    "import re\n",
    "import numpy as np\n",
    "import pandas as pd"
   ]
  },
  {
   "cell_type": "code",
   "execution_count": 2,
   "id": "76b99e20",
   "metadata": {
    "ExecuteTime": {
     "end_time": "2021-11-04T09:59:40.949927Z",
     "start_time": "2021-11-04T09:59:40.947516Z"
    }
   },
   "outputs": [],
   "source": [
    "file_input_path = \"./nips_papers/papers.csv\""
   ]
  },
  {
   "cell_type": "code",
   "execution_count": 3,
   "id": "5bf163a9",
   "metadata": {
    "ExecuteTime": {
     "end_time": "2021-11-04T09:59:40.970647Z",
     "start_time": "2021-11-04T09:59:40.951182Z"
    }
   },
   "outputs": [],
   "source": [
    "if not os.path.exists(file_input_path):\n",
    "    print(\"File not found :\", file_input_path)\n",
    "    sys.exit(1)"
   ]
  },
  {
   "cell_type": "code",
   "execution_count": 4,
   "id": "6f68d302",
   "metadata": {
    "ExecuteTime": {
     "end_time": "2021-11-04T09:59:41.099893Z",
     "start_time": "2021-11-04T09:59:40.972555Z"
    }
   },
   "outputs": [
    {
     "name": "stdout",
     "output_type": "stream",
     "text": [
      "id,year,title,event_type,pdf_name,abstract,paper_text\r\n",
      "1,1987,Self-Organization of Associative Database and Its Applications,,1-self-organization-of-associative-database-and-its-applications.pdf,Abstract Missing,\"767\r\n",
      "\r\n"
     ]
    }
   ],
   "source": [
    "!head -n3 $file_input_path"
   ]
  },
  {
   "cell_type": "code",
   "execution_count": 5,
   "id": "c015f808",
   "metadata": {
    "ExecuteTime": {
     "end_time": "2021-11-04T09:59:42.613611Z",
     "start_time": "2021-11-04T09:59:41.101302Z"
    }
   },
   "outputs": [],
   "source": [
    "df = pd.read_csv(file_input_path, sep=\",\", header=0)"
   ]
  },
  {
   "cell_type": "code",
   "execution_count": 6,
   "id": "4e83e9f2",
   "metadata": {
    "ExecuteTime": {
     "end_time": "2021-11-04T09:59:42.632785Z",
     "start_time": "2021-11-04T09:59:42.615946Z"
    },
    "scrolled": true
   },
   "outputs": [
    {
     "data": {
      "text/html": [
       "<div>\n",
       "<style scoped>\n",
       "    .dataframe tbody tr th:only-of-type {\n",
       "        vertical-align: middle;\n",
       "    }\n",
       "\n",
       "    .dataframe tbody tr th {\n",
       "        vertical-align: top;\n",
       "    }\n",
       "\n",
       "    .dataframe thead th {\n",
       "        text-align: right;\n",
       "    }\n",
       "</style>\n",
       "<table border=\"1\" class=\"dataframe\">\n",
       "  <thead>\n",
       "    <tr style=\"text-align: right;\">\n",
       "      <th></th>\n",
       "      <th>id</th>\n",
       "      <th>year</th>\n",
       "      <th>title</th>\n",
       "      <th>event_type</th>\n",
       "      <th>pdf_name</th>\n",
       "      <th>abstract</th>\n",
       "      <th>paper_text</th>\n",
       "    </tr>\n",
       "  </thead>\n",
       "  <tbody>\n",
       "    <tr>\n",
       "      <th>0</th>\n",
       "      <td>1</td>\n",
       "      <td>1987</td>\n",
       "      <td>Self-Organization of Associative Database and ...</td>\n",
       "      <td>NaN</td>\n",
       "      <td>1-self-organization-of-associative-database-an...</td>\n",
       "      <td>Abstract Missing</td>\n",
       "      <td>767\\n\\nSELF-ORGANIZATION OF ASSOCIATIVE DATABA...</td>\n",
       "    </tr>\n",
       "    <tr>\n",
       "      <th>1</th>\n",
       "      <td>10</td>\n",
       "      <td>1987</td>\n",
       "      <td>A Mean Field Theory of Layer IV of Visual Cort...</td>\n",
       "      <td>NaN</td>\n",
       "      <td>10-a-mean-field-theory-of-layer-iv-of-visual-c...</td>\n",
       "      <td>Abstract Missing</td>\n",
       "      <td>683\\n\\nA MEAN FIELD THEORY OF LAYER IV OF VISU...</td>\n",
       "    </tr>\n",
       "    <tr>\n",
       "      <th>2</th>\n",
       "      <td>100</td>\n",
       "      <td>1988</td>\n",
       "      <td>Storing Covariance by the Associative Long-Ter...</td>\n",
       "      <td>NaN</td>\n",
       "      <td>100-storing-covariance-by-the-associative-long...</td>\n",
       "      <td>Abstract Missing</td>\n",
       "      <td>394\\n\\nSTORING COVARIANCE BY THE ASSOCIATIVE\\n...</td>\n",
       "    </tr>\n",
       "  </tbody>\n",
       "</table>\n",
       "</div>"
      ],
      "text/plain": [
       "    id  year                                              title event_type  \\\n",
       "0    1  1987  Self-Organization of Associative Database and ...        NaN   \n",
       "1   10  1987  A Mean Field Theory of Layer IV of Visual Cort...        NaN   \n",
       "2  100  1988  Storing Covariance by the Associative Long-Ter...        NaN   \n",
       "\n",
       "                                            pdf_name          abstract  \\\n",
       "0  1-self-organization-of-associative-database-an...  Abstract Missing   \n",
       "1  10-a-mean-field-theory-of-layer-iv-of-visual-c...  Abstract Missing   \n",
       "2  100-storing-covariance-by-the-associative-long...  Abstract Missing   \n",
       "\n",
       "                                          paper_text  \n",
       "0  767\\n\\nSELF-ORGANIZATION OF ASSOCIATIVE DATABA...  \n",
       "1  683\\n\\nA MEAN FIELD THEORY OF LAYER IV OF VISU...  \n",
       "2  394\\n\\nSTORING COVARIANCE BY THE ASSOCIATIVE\\n...  "
      ]
     },
     "execution_count": 6,
     "metadata": {},
     "output_type": "execute_result"
    }
   ],
   "source": [
    "df.head(3)"
   ]
  },
  {
   "cell_type": "code",
   "execution_count": 7,
   "id": "377aa799",
   "metadata": {
    "ExecuteTime": {
     "end_time": "2021-11-04T09:59:42.652408Z",
     "start_time": "2021-11-04T09:59:42.634403Z"
    }
   },
   "outputs": [
    {
     "name": "stdout",
     "output_type": "stream",
     "text": [
      "<class 'pandas.core.frame.DataFrame'>\n",
      "RangeIndex: 7241 entries, 0 to 7240\n",
      "Data columns (total 7 columns):\n",
      " #   Column      Non-Null Count  Dtype \n",
      "---  ------      --------------  ----- \n",
      " 0   id          7241 non-null   int64 \n",
      " 1   year        7241 non-null   int64 \n",
      " 2   title       7241 non-null   object\n",
      " 3   event_type  2422 non-null   object\n",
      " 4   pdf_name    7241 non-null   object\n",
      " 5   abstract    7241 non-null   object\n",
      " 6   paper_text  7241 non-null   object\n",
      "dtypes: int64(2), object(5)\n",
      "memory usage: 396.1+ KB\n"
     ]
    }
   ],
   "source": [
    "df.info()"
   ]
  },
  {
   "cell_type": "code",
   "execution_count": 8,
   "id": "a7c456c9",
   "metadata": {
    "ExecuteTime": {
     "end_time": "2021-11-04T09:59:42.674988Z",
     "start_time": "2021-11-04T09:59:42.653732Z"
    }
   },
   "outputs": [
    {
     "data": {
      "text/html": [
       "<div>\n",
       "<style scoped>\n",
       "    .dataframe tbody tr th:only-of-type {\n",
       "        vertical-align: middle;\n",
       "    }\n",
       "\n",
       "    .dataframe tbody tr th {\n",
       "        vertical-align: top;\n",
       "    }\n",
       "\n",
       "    .dataframe thead th {\n",
       "        text-align: right;\n",
       "    }\n",
       "</style>\n",
       "<table border=\"1\" class=\"dataframe\">\n",
       "  <thead>\n",
       "    <tr style=\"text-align: right;\">\n",
       "      <th></th>\n",
       "      <th>id</th>\n",
       "      <th>year</th>\n",
       "    </tr>\n",
       "  </thead>\n",
       "  <tbody>\n",
       "    <tr>\n",
       "      <th>count</th>\n",
       "      <td>7241.000000</td>\n",
       "      <td>7241.000000</td>\n",
       "    </tr>\n",
       "    <tr>\n",
       "      <th>mean</th>\n",
       "      <td>3655.912167</td>\n",
       "      <td>2006.439718</td>\n",
       "    </tr>\n",
       "    <tr>\n",
       "      <th>std</th>\n",
       "      <td>2098.435219</td>\n",
       "      <td>8.759919</td>\n",
       "    </tr>\n",
       "    <tr>\n",
       "      <th>min</th>\n",
       "      <td>1.000000</td>\n",
       "      <td>1987.000000</td>\n",
       "    </tr>\n",
       "    <tr>\n",
       "      <th>25%</th>\n",
       "      <td>1849.000000</td>\n",
       "      <td>2000.000000</td>\n",
       "    </tr>\n",
       "    <tr>\n",
       "      <th>50%</th>\n",
       "      <td>3659.000000</td>\n",
       "      <td>2009.000000</td>\n",
       "    </tr>\n",
       "    <tr>\n",
       "      <th>75%</th>\n",
       "      <td>5473.000000</td>\n",
       "      <td>2014.000000</td>\n",
       "    </tr>\n",
       "    <tr>\n",
       "      <th>max</th>\n",
       "      <td>7284.000000</td>\n",
       "      <td>2017.000000</td>\n",
       "    </tr>\n",
       "  </tbody>\n",
       "</table>\n",
       "</div>"
      ],
      "text/plain": [
       "                id         year\n",
       "count  7241.000000  7241.000000\n",
       "mean   3655.912167  2006.439718\n",
       "std    2098.435219     8.759919\n",
       "min       1.000000  1987.000000\n",
       "25%    1849.000000  2000.000000\n",
       "50%    3659.000000  2009.000000\n",
       "75%    5473.000000  2014.000000\n",
       "max    7284.000000  2017.000000"
      ]
     },
     "execution_count": 8,
     "metadata": {},
     "output_type": "execute_result"
    }
   ],
   "source": [
    "df.describe()"
   ]
  },
  {
   "cell_type": "markdown",
   "id": "f484a353",
   "metadata": {},
   "source": [
    "Thus, in file \"papers.csv\", there are 7 columns: id, year, title, event_type, pdf_name, abstract, paper_text.\n",
    "\n",
    "We focus on the title, the abstract, and the paper_text for this notebook."
   ]
  },
  {
   "cell_type": "code",
   "execution_count": 9,
   "id": "6d5c9e0e",
   "metadata": {
    "ExecuteTime": {
     "end_time": "2021-11-04T09:59:42.686252Z",
     "start_time": "2021-11-04T09:59:42.676502Z"
    }
   },
   "outputs": [],
   "source": [
    "df = df[[\"title\", \"abstract\", \"paper_text\"]]"
   ]
  },
  {
   "cell_type": "code",
   "execution_count": 10,
   "id": "e6ae8ff4",
   "metadata": {
    "ExecuteTime": {
     "end_time": "2021-11-04T09:59:42.714520Z",
     "start_time": "2021-11-04T09:59:42.688547Z"
    }
   },
   "outputs": [
    {
     "data": {
      "text/html": [
       "<div>\n",
       "<style scoped>\n",
       "    .dataframe tbody tr th:only-of-type {\n",
       "        vertical-align: middle;\n",
       "    }\n",
       "\n",
       "    .dataframe tbody tr th {\n",
       "        vertical-align: top;\n",
       "    }\n",
       "\n",
       "    .dataframe thead th {\n",
       "        text-align: right;\n",
       "    }\n",
       "</style>\n",
       "<table border=\"1\" class=\"dataframe\">\n",
       "  <thead>\n",
       "    <tr style=\"text-align: right;\">\n",
       "      <th></th>\n",
       "      <th>title</th>\n",
       "      <th>abstract</th>\n",
       "      <th>paper_text</th>\n",
       "    </tr>\n",
       "  </thead>\n",
       "  <tbody>\n",
       "    <tr>\n",
       "      <th>0</th>\n",
       "      <td>Self-Organization of Associative Database and ...</td>\n",
       "      <td>Abstract Missing</td>\n",
       "      <td>767\\n\\nSELF-ORGANIZATION OF ASSOCIATIVE DATABA...</td>\n",
       "    </tr>\n",
       "    <tr>\n",
       "      <th>1</th>\n",
       "      <td>A Mean Field Theory of Layer IV of Visual Cort...</td>\n",
       "      <td>Abstract Missing</td>\n",
       "      <td>683\\n\\nA MEAN FIELD THEORY OF LAYER IV OF VISU...</td>\n",
       "    </tr>\n",
       "    <tr>\n",
       "      <th>2</th>\n",
       "      <td>Storing Covariance by the Associative Long-Ter...</td>\n",
       "      <td>Abstract Missing</td>\n",
       "      <td>394\\n\\nSTORING COVARIANCE BY THE ASSOCIATIVE\\n...</td>\n",
       "    </tr>\n",
       "  </tbody>\n",
       "</table>\n",
       "</div>"
      ],
      "text/plain": [
       "                                               title          abstract  \\\n",
       "0  Self-Organization of Associative Database and ...  Abstract Missing   \n",
       "1  A Mean Field Theory of Layer IV of Visual Cort...  Abstract Missing   \n",
       "2  Storing Covariance by the Associative Long-Ter...  Abstract Missing   \n",
       "\n",
       "                                          paper_text  \n",
       "0  767\\n\\nSELF-ORGANIZATION OF ASSOCIATIVE DATABA...  \n",
       "1  683\\n\\nA MEAN FIELD THEORY OF LAYER IV OF VISU...  \n",
       "2  394\\n\\nSTORING COVARIANCE BY THE ASSOCIATIVE\\n...  "
      ]
     },
     "execution_count": 10,
     "metadata": {},
     "output_type": "execute_result"
    }
   ],
   "source": [
    "df.head(3)"
   ]
  },
  {
   "cell_type": "markdown",
   "id": "f72647c2",
   "metadata": {},
   "source": [
    "How many titles don't they contain \"abstract\"? (Abstract Missing)"
   ]
  },
  {
   "cell_type": "code",
   "execution_count": 11,
   "id": "053bbb9f",
   "metadata": {
    "ExecuteTime": {
     "end_time": "2021-11-04T09:59:42.733674Z",
     "start_time": "2021-11-04T09:59:42.715705Z"
    }
   },
   "outputs": [
    {
     "data": {
      "text/plain": [
       "3317"
      ]
     },
     "execution_count": 11,
     "metadata": {},
     "output_type": "execute_result"
    }
   ],
   "source": [
    "len(df[df[\"abstract\"]==\"Abstract Missing\"])"
   ]
  },
  {
   "cell_type": "code",
   "execution_count": 12,
   "id": "7797f66c",
   "metadata": {
    "ExecuteTime": {
     "end_time": "2021-11-04T09:59:42.750150Z",
     "start_time": "2021-11-04T09:59:42.735056Z"
    }
   },
   "outputs": [],
   "source": [
    "# How to deal with SettingWithCopyWarning\n",
    "df.loc[df[\"abstract\"]==\"Abstract Missing\", \"abstract\"] = \"\""
   ]
  },
  {
   "cell_type": "code",
   "execution_count": 13,
   "id": "61450bd5",
   "metadata": {
    "ExecuteTime": {
     "end_time": "2021-11-04T09:59:42.775297Z",
     "start_time": "2021-11-04T09:59:42.751940Z"
    }
   },
   "outputs": [
    {
     "data": {
      "text/html": [
       "<div>\n",
       "<style scoped>\n",
       "    .dataframe tbody tr th:only-of-type {\n",
       "        vertical-align: middle;\n",
       "    }\n",
       "\n",
       "    .dataframe tbody tr th {\n",
       "        vertical-align: top;\n",
       "    }\n",
       "\n",
       "    .dataframe thead th {\n",
       "        text-align: right;\n",
       "    }\n",
       "</style>\n",
       "<table border=\"1\" class=\"dataframe\">\n",
       "  <thead>\n",
       "    <tr style=\"text-align: right;\">\n",
       "      <th></th>\n",
       "      <th>title</th>\n",
       "      <th>abstract</th>\n",
       "      <th>paper_text</th>\n",
       "    </tr>\n",
       "  </thead>\n",
       "  <tbody>\n",
       "    <tr>\n",
       "      <th>0</th>\n",
       "      <td>Self-Organization of Associative Database and ...</td>\n",
       "      <td></td>\n",
       "      <td>767\\n\\nSELF-ORGANIZATION OF ASSOCIATIVE DATABA...</td>\n",
       "    </tr>\n",
       "    <tr>\n",
       "      <th>1</th>\n",
       "      <td>A Mean Field Theory of Layer IV of Visual Cort...</td>\n",
       "      <td></td>\n",
       "      <td>683\\n\\nA MEAN FIELD THEORY OF LAYER IV OF VISU...</td>\n",
       "    </tr>\n",
       "    <tr>\n",
       "      <th>2</th>\n",
       "      <td>Storing Covariance by the Associative Long-Ter...</td>\n",
       "      <td></td>\n",
       "      <td>394\\n\\nSTORING COVARIANCE BY THE ASSOCIATIVE\\n...</td>\n",
       "    </tr>\n",
       "  </tbody>\n",
       "</table>\n",
       "</div>"
      ],
      "text/plain": [
       "                                               title abstract  \\\n",
       "0  Self-Organization of Associative Database and ...            \n",
       "1  A Mean Field Theory of Layer IV of Visual Cort...            \n",
       "2  Storing Covariance by the Associative Long-Ter...            \n",
       "\n",
       "                                          paper_text  \n",
       "0  767\\n\\nSELF-ORGANIZATION OF ASSOCIATIVE DATABA...  \n",
       "1  683\\n\\nA MEAN FIELD THEORY OF LAYER IV OF VISU...  \n",
       "2  394\\n\\nSTORING COVARIANCE BY THE ASSOCIATIVE\\n...  "
      ]
     },
     "execution_count": 13,
     "metadata": {},
     "output_type": "execute_result"
    }
   ],
   "source": [
    "df.head(3)"
   ]
  },
  {
   "cell_type": "code",
   "execution_count": null,
   "id": "857871da",
   "metadata": {},
   "outputs": [],
   "source": []
  },
  {
   "cell_type": "markdown",
   "id": "0f265ef9",
   "metadata": {},
   "source": [
    "# Preprocessing"
   ]
  },
  {
   "cell_type": "code",
   "execution_count": 14,
   "id": "9f326cd6",
   "metadata": {
    "ExecuteTime": {
     "end_time": "2021-11-04T09:59:43.314291Z",
     "start_time": "2021-11-04T09:59:42.776429Z"
    }
   },
   "outputs": [],
   "source": [
    "from nltk.corpus import stopwords"
   ]
  },
  {
   "cell_type": "code",
   "execution_count": 15,
   "id": "673e0e28",
   "metadata": {
    "ExecuteTime": {
     "end_time": "2021-11-04T09:59:43.320651Z",
     "start_time": "2021-11-04T09:59:43.315957Z"
    }
   },
   "outputs": [],
   "source": [
    "stopwords_en = set(stopwords.words(\"english\"))\n",
    "\n",
    "##Creating a list of custom stopwords\n",
    "new_words = [\"fig\",\"figure\",\"image\",\"sample\",\"using\", \n",
    "             \"show\", \"result\", \"large\", \n",
    "             \"also\", \"one\", \"two\", \"three\", \n",
    "             \"four\", \"five\", \"seven\",\"eight\",\"nine\", \"table\"]\n",
    "stopwords_en = list(stopwords_en.union(new_words))"
   ]
  },
  {
   "cell_type": "code",
   "execution_count": 16,
   "id": "0cdd4c25",
   "metadata": {
    "ExecuteTime": {
     "end_time": "2021-11-04T09:59:43.338202Z",
     "start_time": "2021-11-04T09:59:43.321987Z"
    }
   },
   "outputs": [],
   "source": [
    "# !pip install spacy"
   ]
  },
  {
   "cell_type": "code",
   "execution_count": 17,
   "id": "ac280e3b",
   "metadata": {
    "ExecuteTime": {
     "end_time": "2021-11-04T09:59:43.354842Z",
     "start_time": "2021-11-04T09:59:43.340063Z"
    }
   },
   "outputs": [],
   "source": [
    "# !python -m spacy download en_core_web_sm"
   ]
  },
  {
   "cell_type": "code",
   "execution_count": 18,
   "id": "879a4d36",
   "metadata": {
    "ExecuteTime": {
     "end_time": "2021-11-04T09:59:45.157649Z",
     "start_time": "2021-11-04T09:59:43.358595Z"
    }
   },
   "outputs": [],
   "source": [
    "import spacy"
   ]
  },
  {
   "cell_type": "code",
   "execution_count": 19,
   "id": "6731cab9",
   "metadata": {
    "ExecuteTime": {
     "end_time": "2021-11-04T09:59:45.632396Z",
     "start_time": "2021-11-04T09:59:45.159209Z"
    }
   },
   "outputs": [],
   "source": [
    "nlp = spacy.load(\"en_core_web_sm\")"
   ]
  },
  {
   "cell_type": "code",
   "execution_count": 20,
   "id": "5a5986ec",
   "metadata": {
    "ExecuteTime": {
     "end_time": "2021-11-04T09:59:45.640733Z",
     "start_time": "2021-11-04T09:59:45.634091Z"
    }
   },
   "outputs": [],
   "source": [
    "def GetLemma(text, nlp):\n",
    "    return \" \".join([token.lemma_ for token in nlp(text)])\n",
    "\n",
    "def Preprocessing(text, nlp):\n",
    "    text = text.lower()\n",
    "    \n",
    "    text = re.sub('<[^>]*>','',text)\n",
    "    \n",
    "    # remove tags\n",
    "    text=re.sub(\"&lt;/?.*?&gt;\",\" &lt;&gt; \",text)\n",
    "    \n",
    "    # remove special characters and digits\n",
    "    text=re.sub(\"(\\\\d|\\\\W)+\",\" \",text)\n",
    "        \n",
    "    # remove stopwords\n",
    "    text = \" \".join([word for word in text.split() if word not in stopwords_en])\n",
    "    \n",
    "    # remove words less than three letters\n",
    "    # text = [word for word in text if len(word) >= 3]\n",
    "    \n",
    "    # lemmatize\n",
    "    text = GetLemma(text=text, nlp=nlp)\n",
    "    \n",
    "    return text"
   ]
  },
  {
   "cell_type": "code",
   "execution_count": 21,
   "id": "2228e818",
   "metadata": {
    "ExecuteTime": {
     "end_time": "2021-11-04T09:59:45.661494Z",
     "start_time": "2021-11-04T09:59:45.642459Z"
    }
   },
   "outputs": [],
   "source": [
    "paper_texts = df[\"paper_text\"].values.tolist()"
   ]
  },
  {
   "cell_type": "code",
   "execution_count": 22,
   "id": "85bf2a7c",
   "metadata": {
    "ExecuteTime": {
     "end_time": "2021-11-04T09:59:45.675243Z",
     "start_time": "2021-11-04T09:59:45.663765Z"
    }
   },
   "outputs": [
    {
     "name": "stdout",
     "output_type": "stream",
     "text": [
      "Number of papers:  7241\n"
     ]
    }
   ],
   "source": [
    "num_papers = len(paper_texts)\n",
    "print(\"Number of papers: \", num_papers)"
   ]
  },
  {
   "cell_type": "raw",
   "id": "433a4ab4",
   "metadata": {
    "ExecuteTime": {
     "end_time": "2021-11-03T20:19:18.510442Z",
     "start_time": "2021-11-03T20:17:22.150757Z"
    }
   },
   "source": [
    "about 35 minutes\n",
    "docs = df[\"paper_text\"].apply(lambda x: Preprocessing(x, nlp))"
   ]
  },
  {
   "cell_type": "code",
   "execution_count": 23,
   "id": "c2bd3635",
   "metadata": {
    "ExecuteTime": {
     "end_time": "2021-11-04T09:59:48.094198Z",
     "start_time": "2021-11-04T09:59:45.676684Z"
    }
   },
   "outputs": [],
   "source": [
    "file_output_path = \"./nips_papers/paper_text_processed.csv\"\n",
    "\n",
    "if not os.path.exists(file_output_path):\n",
    "    # Pre-processing Phase\n",
    "    import time\n",
    "    paper_text_processedp = []\n",
    "    for i, content in enumerate(paper_texts):\n",
    "        start_time = time.time()\n",
    "        print(\"-\" * 32)\n",
    "        print(f\"Processing article num: {i+1}/{num_papers}\")\n",
    "        p = Preprocessing(content, nlp)\n",
    "        paper_text_processed.append(p)\n",
    "        print(f\"Duration: {time.time()-start_time} (s)\")\n",
    "    \n",
    "    df[\"paper_text_processed\"] = paper_text_processed\n",
    "    \n",
    "    # Save to file    \n",
    "    df.to_csv(file_output_path, header=True, sep=\"\\t\", index=False)\n",
    "else:\n",
    "    # Load from file\n",
    "    df1 = pd.read_csv(file_output_path, header=0, sep=\"\\t\")"
   ]
  },
  {
   "cell_type": "code",
   "execution_count": 24,
   "id": "67ef4996",
   "metadata": {
    "ExecuteTime": {
     "end_time": "2021-11-04T09:59:48.104094Z",
     "start_time": "2021-11-04T09:59:48.095947Z"
    }
   },
   "outputs": [
    {
     "data": {
      "text/html": [
       "<div>\n",
       "<style scoped>\n",
       "    .dataframe tbody tr th:only-of-type {\n",
       "        vertical-align: middle;\n",
       "    }\n",
       "\n",
       "    .dataframe tbody tr th {\n",
       "        vertical-align: top;\n",
       "    }\n",
       "\n",
       "    .dataframe thead th {\n",
       "        text-align: right;\n",
       "    }\n",
       "</style>\n",
       "<table border=\"1\" class=\"dataframe\">\n",
       "  <thead>\n",
       "    <tr style=\"text-align: right;\">\n",
       "      <th></th>\n",
       "      <th>title</th>\n",
       "      <th>abstract</th>\n",
       "      <th>paper_text</th>\n",
       "      <th>paper_text_processed</th>\n",
       "    </tr>\n",
       "  </thead>\n",
       "  <tbody>\n",
       "    <tr>\n",
       "      <th>0</th>\n",
       "      <td>Self-Organization of Associative Database and ...</td>\n",
       "      <td>NaN</td>\n",
       "      <td>767\\n\\nSELF-ORGANIZATION OF ASSOCIATIVE DATABA...</td>\n",
       "      <td>self organization associative database applica...</td>\n",
       "    </tr>\n",
       "    <tr>\n",
       "      <th>1</th>\n",
       "      <td>A Mean Field Theory of Layer IV of Visual Cort...</td>\n",
       "      <td>NaN</td>\n",
       "      <td>683\\n\\nA MEAN FIELD THEORY OF LAYER IV OF VISU...</td>\n",
       "      <td>mean field theory layer iv visual cortex appli...</td>\n",
       "    </tr>\n",
       "    <tr>\n",
       "      <th>2</th>\n",
       "      <td>Storing Covariance by the Associative Long-Ter...</td>\n",
       "      <td>NaN</td>\n",
       "      <td>394\\n\\nSTORING COVARIANCE BY THE ASSOCIATIVE\\n...</td>\n",
       "      <td>store covariance associative long term potenti...</td>\n",
       "    </tr>\n",
       "  </tbody>\n",
       "</table>\n",
       "</div>"
      ],
      "text/plain": [
       "                                               title abstract  \\\n",
       "0  Self-Organization of Associative Database and ...      NaN   \n",
       "1  A Mean Field Theory of Layer IV of Visual Cort...      NaN   \n",
       "2  Storing Covariance by the Associative Long-Ter...      NaN   \n",
       "\n",
       "                                          paper_text  \\\n",
       "0  767\\n\\nSELF-ORGANIZATION OF ASSOCIATIVE DATABA...   \n",
       "1  683\\n\\nA MEAN FIELD THEORY OF LAYER IV OF VISU...   \n",
       "2  394\\n\\nSTORING COVARIANCE BY THE ASSOCIATIVE\\n...   \n",
       "\n",
       "                                paper_text_processed  \n",
       "0  self organization associative database applica...  \n",
       "1  mean field theory layer iv visual cortex appli...  \n",
       "2  store covariance associative long term potenti...  "
      ]
     },
     "execution_count": 24,
     "metadata": {},
     "output_type": "execute_result"
    }
   ],
   "source": [
    "df1.head(3)"
   ]
  },
  {
   "cell_type": "markdown",
   "id": "38e429f8",
   "metadata": {},
   "source": [
    "# Our approach\n",
    "\n",
    "Using TF-IDF (stands for \"Text Frequency Inverse Document Frequency\").\n",
    "\n",
    "The important of each word increases in proportion to the number of times a word appears in the document (Text Frequency). Moreover, it is offset by the frequency of the word in the corpus (Inverse Document Frequency).\n",
    "\n",
    "Using the TF-IDF scheme, the keywords are the words with the highest TF-IDF score.\n",
    "\n",
    "In addition, we use CountVectorizer method in scikit-learn to create a Bag-of-Word."
   ]
  },
  {
   "cell_type": "code",
   "execution_count": 25,
   "id": "0f078af7",
   "metadata": {
    "ExecuteTime": {
     "end_time": "2021-11-04T09:59:48.122976Z",
     "start_time": "2021-11-04T09:59:48.105690Z"
    }
   },
   "outputs": [],
   "source": [
    "from sklearn.feature_extraction.text import CountVectorizer, TfidfTransformer\n",
    "\n",
    "# Create Bag-Of-Words\n",
    "cv = CountVectorizer(\n",
    "    max_df=0.99,         # ignore words that appear in 99% of documents\n",
    "    max_features=10000,  # the size of the vocabulary\n",
    "    ngram_range=(1,2)    # vocabulary contains 1-gram, bigrams, trigrams\n",
    ")\n",
    "\n",
    "tfidf = TfidfTransformer(smooth_idf=True, use_idf=True)"
   ]
  },
  {
   "cell_type": "code",
   "execution_count": 26,
   "id": "97a1f64b",
   "metadata": {
    "ExecuteTime": {
     "end_time": "2021-11-04T09:59:48.139382Z",
     "start_time": "2021-11-04T09:59:48.124511Z"
    }
   },
   "outputs": [],
   "source": [
    "docs = df1[\"paper_text_processed\"].values.tolist()"
   ]
  },
  {
   "cell_type": "code",
   "execution_count": 27,
   "id": "ed77aa87",
   "metadata": {
    "ExecuteTime": {
     "end_time": "2021-11-04T09:59:48.156399Z",
     "start_time": "2021-11-04T09:59:48.140687Z"
    }
   },
   "outputs": [
    {
     "data": {
      "text/plain": [
       "7241"
      ]
     },
     "execution_count": 27,
     "metadata": {},
     "output_type": "execute_result"
    }
   ],
   "source": [
    "len(docs)"
   ]
  },
  {
   "cell_type": "code",
   "execution_count": 28,
   "id": "7196f4c5",
   "metadata": {
    "ExecuteTime": {
     "end_time": "2021-11-04T09:59:48.174716Z",
     "start_time": "2021-11-04T09:59:48.161251Z"
    }
   },
   "outputs": [],
   "source": [
    "docs = [str(d).strip() for d in docs if str(d).strip()]"
   ]
  },
  {
   "cell_type": "code",
   "execution_count": 29,
   "id": "e2064ede",
   "metadata": {
    "ExecuteTime": {
     "end_time": "2021-11-04T09:59:48.192660Z",
     "start_time": "2021-11-04T09:59:48.176398Z"
    }
   },
   "outputs": [
    {
     "data": {
      "text/plain": [
       "7241"
      ]
     },
     "execution_count": 29,
     "metadata": {},
     "output_type": "execute_result"
    }
   ],
   "source": [
    "len(docs)"
   ]
  },
  {
   "cell_type": "code",
   "execution_count": 30,
   "id": "4be434d1",
   "metadata": {
    "ExecuteTime": {
     "end_time": "2021-11-04T10:00:31.266648Z",
     "start_time": "2021-11-04T09:59:48.193775Z"
    }
   },
   "outputs": [],
   "source": [
    "bow = cv.fit_transform(docs)"
   ]
  },
  {
   "cell_type": "code",
   "execution_count": 31,
   "id": "f92358e8",
   "metadata": {
    "ExecuteTime": {
     "end_time": "2021-11-04T10:00:31.298014Z",
     "start_time": "2021-11-04T10:00:31.268105Z"
    }
   },
   "outputs": [
    {
     "data": {
      "text/plain": [
       "TfidfTransformer()"
      ]
     },
     "execution_count": 31,
     "metadata": {},
     "output_type": "execute_result"
    }
   ],
   "source": [
    "tfidf.fit(bow)"
   ]
  },
  {
   "cell_type": "code",
   "execution_count": 32,
   "id": "bf69572b",
   "metadata": {
    "ExecuteTime": {
     "end_time": "2021-11-04T10:00:31.306656Z",
     "start_time": "2021-11-04T10:00:31.299390Z"
    }
   },
   "outputs": [],
   "source": [
    "def Extract_TopN(feature_names, sorted_keywords, top_n=10):\n",
    "    \"\"\"Get the feature names and TF-IDF score of Top-N keywords\n",
    "    \"\"\"\n",
    "    top_n_keywords = sorted_keywords[:top_n]\n",
    "    \n",
    "    scores = []\n",
    "    features = []\n",
    "    \n",
    "    for i, score in top_n_keywords:\n",
    "        feature_name = feature_names[i]\n",
    "        \n",
    "        # Keep track of feature name and its corresponding score\n",
    "        scores.append(np.round(score, 6))\n",
    "        features.append(feature_names[i])\n",
    "        \n",
    "    # Create a tuple of (feature, score)\n",
    "    list_features_scores = list(zip(features, scores))    \n",
    "    return dict((x, y) for x, y in list_features_scores)\n",
    "\n",
    "def ExtractKeywords(tfidf, cv, idx, docs, feature_names):\n",
    "    # Generate TF-IDF for given document\n",
    "    tfidf_vector = tfidf.transform(\n",
    "        cv.transform([docs[idx]])\n",
    "    )\n",
    "    \n",
    "    # Sort the TF-IDF vectors by descending order of scores\n",
    "    coo_matrix = tfidf_vector.tocoo()\n",
    "    col_data = zip(coo_matrix.col, coo_matrix.data)\n",
    "    sorted_keywords = sorted(col_data, key=lambda x: (x[1], x[0]), reverse=True)\n",
    "    \n",
    "    # Extract only the top n; n here is 10\n",
    "    return Extract_TopN(feature_names, sorted_keywords, top_n=10)    \n",
    "    \n",
    "def PrintKeywords(df, keywords, idx):\n",
    "    print(\"Title: \", df[\"title\"][idx])\n",
    "    print(\"Abstract: \", df[\"abstract\"][idx])\n",
    "    print(\"Keywords: \")\n",
    "    for k, score in keywords.items():        \n",
    "        # print(f\"{k} \\t {score}\")\n",
    "        print(\"{0:<22}{1:<8}\".format(k, score))\n",
    "        "
   ]
  },
  {
   "cell_type": "code",
   "execution_count": 33,
   "id": "e77b385a",
   "metadata": {
    "ExecuteTime": {
     "end_time": "2021-11-04T10:00:31.327068Z",
     "start_time": "2021-11-04T10:00:31.307886Z"
    }
   },
   "outputs": [
    {
     "data": {
      "text/plain": [
       "'algorithm '"
      ]
     },
     "execution_count": 33,
     "metadata": {},
     "output_type": "execute_result"
    }
   ],
   "source": [
    "docs[941][:10]"
   ]
  },
  {
   "cell_type": "code",
   "execution_count": 34,
   "id": "bdd3cc75",
   "metadata": {
    "ExecuteTime": {
     "end_time": "2021-11-04T10:00:31.369551Z",
     "start_time": "2021-11-04T10:00:31.328135Z"
    }
   },
   "outputs": [
    {
     "name": "stdout",
     "output_type": "stream",
     "text": [
      "Title:  Algorithms for Non-negative Matrix Factorization\n",
      "Abstract:  Non-negative matrix factorization (NMF) has previously been shown to \r\n",
      "be a useful decomposition for multivariate data. Two different multi- \r\n",
      "plicative algorithms for NMF are analyzed. They differ only slightly in \r\n",
      "the multiplicative factor used in the update rules. One algorithm can be \r\n",
      "shown to minimize the conventional least squares error while the other \r\n",
      "minimizes the generalized Kullback-Leibler divergence. The monotonic \r\n",
      "convergence of both algorithms can be proven using an auxiliary func- \r\n",
      "tion analogous to that used for proving convergence of the Expectation- \r\n",
      "Maximization algorithm. The algorithms can also be interpreted as diag- \r\n",
      "onally rescaled gradient descent, where the rescaling factor is optimally \r\n",
      "chosen to ensure convergence. \n",
      "Keywords: \n",
      "ht                    0.548523\n",
      "update rule           0.278459\n",
      "ht ht                 0.230532\n",
      "update                0.219442\n",
      "negative matrix       0.170051\n",
      "auxiliary             0.161582\n",
      "rule                  0.158088\n",
      "nmf                   0.14852 \n",
      "multiplicative        0.144752\n",
      "matrix factorization  0.132805\n"
     ]
    }
   ],
   "source": [
    "# Get feature names\n",
    "feature_names = cv.get_feature_names_out()\n",
    "\n",
    "idx = 941\n",
    "keywords = ExtractKeywords(tfidf, cv, idx, docs, feature_names)\n",
    "PrintKeywords(df1, keywords, idx)"
   ]
  },
  {
   "cell_type": "code",
   "execution_count": null,
   "id": "ad85b8a7",
   "metadata": {},
   "outputs": [],
   "source": []
  }
 ],
 "metadata": {
  "kernelspec": {
   "display_name": "Python 3 (ipykernel)",
   "language": "python",
   "name": "python3"
  },
  "language_info": {
   "codemirror_mode": {
    "name": "ipython",
    "version": 3
   },
   "file_extension": ".py",
   "mimetype": "text/x-python",
   "name": "python",
   "nbconvert_exporter": "python",
   "pygments_lexer": "ipython3",
   "version": "3.8.10"
  },
  "latex_envs": {
   "LaTeX_envs_menu_present": true,
   "autoclose": false,
   "autocomplete": true,
   "bibliofile": "biblio.bib",
   "cite_by": "apalike",
   "current_citInitial": 1,
   "eqLabelWithNumbers": true,
   "eqNumInitial": 1,
   "hotkeys": {
    "equation": "Ctrl-E",
    "itemize": "Ctrl-I"
   },
   "labels_anchors": false,
   "latex_user_defs": false,
   "report_style_numbering": false,
   "user_envs_cfg": false
  },
  "toc": {
   "base_numbering": 1,
   "nav_menu": {},
   "number_sections": true,
   "sideBar": true,
   "skip_h1_title": false,
   "title_cell": "Table of Contents",
   "title_sidebar": "Contents",
   "toc_cell": false,
   "toc_position": {},
   "toc_section_display": true,
   "toc_window_display": true
  },
  "varInspector": {
   "cols": {
    "lenName": 16,
    "lenType": 16,
    "lenVar": 40
   },
   "kernels_config": {
    "python": {
     "delete_cmd_postfix": "",
     "delete_cmd_prefix": "del ",
     "library": "var_list.py",
     "varRefreshCmd": "print(var_dic_list())"
    },
    "r": {
     "delete_cmd_postfix": ") ",
     "delete_cmd_prefix": "rm(",
     "library": "var_list.r",
     "varRefreshCmd": "cat(var_dic_list()) "
    }
   },
   "types_to_exclude": [
    "module",
    "function",
    "builtin_function_or_method",
    "instance",
    "_Feature"
   ],
   "window_display": false
  }
 },
 "nbformat": 4,
 "nbformat_minor": 5
}
